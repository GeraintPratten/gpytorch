{
 "cells": [
  {
   "cell_type": "markdown",
   "metadata": {},
   "source": [
    "# GPyTorch Classification Tutorial\n",
    "## Introduction\n",
    "\n",
    "This example is the simplest form of using an RBF kernel in an `AbstractVariationalGP` module for classification. This basic model is usable when there is not much training data and no advanced techniques are required.\n",
    "\n",
    "In this example, we’re modeling a unit wave with period 1/2 centered with positive values @ x=0. We are going to classify the points as either +1 or -1.\n",
    "\n",
    "Variational inference uses the assumption that the posterior distribution factors multiplicatively over the input variables. This makes approximating the distribution via the KL divergence possible to obtain a fast approximation to the posterior. For a good explanation of variational techniques, sections 4-6 of the following may be useful: https://www.cs.princeton.edu/courses/archive/fall11/cos597C/lectures/variational-inference-i.pdf"
   ]
  },
  {
   "cell_type": "code",
   "execution_count": 1,
   "metadata": {},
   "outputs": [],
   "source": [
    "import math\n",
    "import torch\n",
    "import gpytorch\n",
    "from matplotlib import pyplot as plt\n",
    "\n",
    "%matplotlib inline"
   ]
  },
  {
   "cell_type": "markdown",
   "metadata": {},
   "source": [
    "### Set up training data\n",
    "\n",
    "In the next cell, we set up the training data for this example. We'll be using 15 regularly spaced points on [0,1] which we evaluate the function on and add Gaussian noise to get the training labels. Labels are unit wave with period 1/2 centered with positive values @ x=0."
   ]
  },
  {
   "cell_type": "code",
   "execution_count": 2,
   "metadata": {},
   "outputs": [],
   "source": [
    "train_x = torch.linspace(0, 1, 10)\n",
    "train_y = torch.sign(torch.cos(train_x * (4 * math.pi)))"
   ]
  },
  {
   "cell_type": "markdown",
   "metadata": {},
   "source": [
    "## Setting up the classification model\n",
    "\n",
    "The next cell demonstrates the simplist way to define a classification Gaussian process model in GPyTorch. If you have already done the [GP regression tutorial](../01_Simple_GP_Regression/Simple_GP_Regression.ipynb), you have already seen how GPyTorch model construction differs from other GP packages. In particular, the GP model expects a user to write out a `forward` method in a way analogous to PyTorch models. This gives the user the most possible flexibility.\n",
    "\n",
    "Since exact inference is intractable for GP classification, GPyTorch approximates the classification posterior using **variational inference.** We believe that variational inference is ideal for a number of reasons. Firstly, variational inference commonly relies on gradient descent techniques, which take full advantage of PyTorch's autograd. This reduces the amount of code needed to develop complex variational models. Additionally, variational inference can be performed with stochastic gradient decent, which can be extremely scalable for large datasets.\n",
    "\n",
    "If you are unfamiliar with variational inference, we recommend the following resources:\n",
    "- [Variational Inference: A Review for Statisticians](https://arxiv.org/abs/1601.00670) by David M. Blei, Alp Kucukelbir, Jon D. McAuliffe.\n",
    "- [Scalable Variational Gaussian Process Classification](https://arxiv.org/abs/1411.2005) by James Hensman, Alex Matthews, Zoubin Ghahramani.\n",
    "\n",
    "### The necessary classes\n",
    "\n",
    "For most variational GP models, you will need to construct the following GPyTorch objects:\n",
    "\n",
    "1. A **GP Model** (`gpytorch.models.AbstractVariationalGP`) -  This handles basic variational inference.\n",
    "1. A **Variational distribution** (`gpytorch.variational.VariationalDistribution`) - This tells us what form the variational distribution q(u) should take.\n",
    "1. A **Variational strategy** (`gpytorch.variational.VariationalStrategy`) - This tells us how to transform a distribution q(u) over the inducing point values to a distribution q(f) over the latent function values for some input x.\n",
    "1. A **Likelihood** (`gpytorch.likelihoods.BernoulliLikelihood`) - This is a good likelihood for binary classification\n",
    "1. A **Mean** - This defines the prior mean of the GP.\n",
    "  - If you don't know which mean to use, a `gpytorch.means.ConstantMean()` is a good place to start.\n",
    "1. A **Kernel** - This defines the prior covariance of the GP.\n",
    "  - If you don't know which kernel to use, a `gpytorch.kernels.ScaleKernel(gpytorch.kernels.RBFKernel())` is a good place to start.\n",
    "1. A **MultivariateNormal** Distribution (`gpytorch.distributions.MultivariateNormal`) - This is the object used to represent multivariate normal distributions.\n",
    "  \n",
    "  \n",
    "#### The GP Model\n",
    "  \n",
    "The `AbstractVariationalGP` model is GPyTorch's simplist approximate inference model. It approximates the true posterior with a distribution specified by a `VariationalDistribution`, which is most commonly some form of MultivariateNormal distribution. The model defines all the variational parameters that are needed, and keeps all of this information under the hood.\n",
    "\n",
    "The components of a user built `AbstractVariationalGP` model in GPyTorch are:\n",
    "\n",
    "1. An `__init__` method that constructs a mean module, a kernel module, a variational distribution object and a variational strategy object. This method should also be responsible for construting whatever other modules might be necessary.\n",
    "\n",
    "2. A `forward` method that takes in some $n \\times d$ data `x` and returns a MultivariateNormal with the *prior* mean and covariance evaluated at `x`. In other words, we return the vector $\\mu(x)$ and the $n \\times n$ matrix $K_{xx}$ representing the prior mean and covariance matrix of the GP.\n",
    "\n",
    "(For those who are unfamiliar with GP classification: even though we are performing classification, the GP model still returns a `MultivariateNormal`. The likelihood transforms this latent Gaussian variable into a Bernoulli variable)\n",
    "\n",
    "Here we present a simple classification model, but it is posslbe to construct more complex models. See some of the [scalable classification examples](../07_Scalable_GP_Classification_Multidimensional/KISSGP_Kronecker_Classification.ipynb) or [deep kernel learning examples](../08_Deep_Kernel_Learning/Deep_Kernel_Learning_DenseNet_CIFAR_Tutorial.ipynb) for some other examples."
   ]
  },
  {
   "cell_type": "code",
   "execution_count": 3,
   "metadata": {},
   "outputs": [],
   "source": [
    "from gpytorch.models import AbstractVariationalGP\n",
    "from gpytorch.variational import NaturalVariationalDistribution\n",
    "from gpytorch.variational import VariationalStrategy\n",
    "\n",
    "\n",
    "class GPClassificationModel(AbstractVariationalGP):\n",
    "    def __init__(self, train_x):\n",
    "        variational_distribution = NaturalVariationalDistribution(train_x.size(0))\n",
    "        variational_strategy = VariationalStrategy(self, train_x, variational_distribution)\n",
    "        super(GPClassificationModel, self).__init__(variational_strategy)\n",
    "        self.mean_module = gpytorch.means.ConstantMean()\n",
    "        self.covar_module = gpytorch.kernels.ScaleKernel(gpytorch.kernels.RBFKernel())\n",
    "\n",
    "    def forward(self, x):\n",
    "        mean_x = self.mean_module(x)\n",
    "        covar_x = self.covar_module(x)\n",
    "        latent_pred = gpytorch.distributions.MultivariateNormal(mean_x, covar_x)\n",
    "        return latent_pred\n",
    "\n",
    "\n",
    "# Initialize model and likelihood\n",
    "model = GPClassificationModel(train_x)\n",
    "likelihood = gpytorch.likelihoods.BernoulliLikelihood()"
   ]
  },
  {
   "cell_type": "markdown",
   "metadata": {},
   "source": [
    "### Model modes\n",
    "\n",
    "Like most PyTorch modules, the `ExactGP` has a `.train()` and `.eval()` mode.\n",
    "- `.train()` mode is for optimizing variational parameters model hyperameters.\n",
    "- `.eval()` mode is for computing predictions through the model posterior."
   ]
  },
  {
   "cell_type": "markdown",
   "metadata": {},
   "source": [
    "## Learn the variational parameters (and other hyperparameters)\n",
    "\n",
    "In the next cell, we optimize the variational parameters of our Gaussian process.\n",
    "In addition, this optimization loop also performs Type-II MLE to train the hyperparameters of the Gaussian process.\n",
    "\n",
    "The most obvious difference here compared to many other GP implementations is that, as in standard PyTorch, the core training loop is written by the user. In GPyTorch, we make use of the standard PyTorch optimizers as from `torch.optim`, and all trainable parameters of the model should be of type `torch.nn.Parameter`. The variational parameters are predefined as part of the `VariationalGP` model.\n",
    "\n",
    "In most cases, the boilerplate code below will work well. It has the same basic components as the standard PyTorch training loop:\n",
    "\n",
    "1. Zero all parameter gradients\n",
    "2. Call the model and compute the loss\n",
    "3. Call backward on the loss to fill in gradients\n",
    "4. Take a step on the optimizer\n",
    "\n",
    "However, defining custom training loops allows for greater flexibility. For example, it is possible to learn the variational parameters and kernel hyperparameters with different learning rates."
   ]
  },
  {
   "cell_type": "code",
   "execution_count": 4,
   "metadata": {},
   "outputs": [],
   "source": [
    "from gpytorch.utils.natural_adam import NaturalAdam\n",
    "\n",
    "# Get parameters of VariationalDistribution\n",
    "variational_params = list(model.variational_strategy.variational_distribution.parameters())\n",
    "\n",
    "# Get parameters of everything except the VariationalDistribution\n",
    "other_params = list(model.parameters())\n",
    "_ = [other_params.remove(p) for p in variational_params]\n",
    "\n",
    "optimizer = NaturalAdam(variational_params, other_params, model.variational_strategy.variational_distribution, lr=0.01)"
   ]
  },
  {
   "cell_type": "code",
   "execution_count": 5,
   "metadata": {
    "scrolled": true
   },
   "outputs": [
    {
     "name": "stdout",
     "output_type": "stream",
     "text": [
      "Iter 1/100 - Loss: 0.910\n",
      "Iter 2/100 - Loss: 1.080\n",
      "Iter 3/100 - Loss: 0.972\n",
      "Iter 4/100 - Loss: 0.977\n",
      "Iter 5/100 - Loss: 1.176\n",
      "Iter 6/100 - Loss: 0.988\n",
      "Iter 7/100 - Loss: 1.005\n",
      "Iter 8/100 - Loss: 1.149\n",
      "Iter 9/100 - Loss: 0.965\n",
      "Iter 10/100 - Loss: 1.096\n",
      "Iter 11/100 - Loss: 0.990\n",
      "Iter 12/100 - Loss: 1.016\n",
      "Iter 13/100 - Loss: 0.968\n",
      "Iter 14/100 - Loss: 1.020\n",
      "Iter 15/100 - Loss: 1.100\n",
      "Iter 16/100 - Loss: 1.176\n",
      "Iter 17/100 - Loss: 0.965\n",
      "Iter 18/100 - Loss: 0.926\n",
      "Iter 19/100 - Loss: 0.896\n",
      "Iter 20/100 - Loss: 0.962\n",
      "Iter 21/100 - Loss: 0.897\n",
      "Iter 22/100 - Loss: 1.062\n",
      "Iter 23/100 - Loss: 0.800\n",
      "Iter 24/100 - Loss: 0.896\n",
      "Iter 25/100 - Loss: 0.906\n",
      "Iter 26/100 - Loss: 0.892\n",
      "Iter 27/100 - Loss: 0.929\n",
      "Iter 28/100 - Loss: 0.935\n",
      "Iter 29/100 - Loss: 0.863\n",
      "Iter 30/100 - Loss: 0.933\n",
      "Iter 31/100 - Loss: 0.809\n",
      "Iter 32/100 - Loss: 0.939\n",
      "Iter 33/100 - Loss: 0.902\n",
      "Iter 34/100 - Loss: 0.848\n",
      "Iter 35/100 - Loss: 0.846\n",
      "Iter 36/100 - Loss: 0.941\n",
      "Iter 37/100 - Loss: 0.908\n",
      "Iter 38/100 - Loss: 0.793\n",
      "Iter 39/100 - Loss: 0.827\n",
      "Iter 40/100 - Loss: 1.014\n",
      "Iter 41/100 - Loss: 0.808\n",
      "Iter 42/100 - Loss: 0.995\n",
      "Iter 43/100 - Loss: 0.822\n",
      "Iter 44/100 - Loss: 0.915\n",
      "Iter 45/100 - Loss: 0.858\n",
      "Iter 46/100 - Loss: 0.777\n",
      "Iter 47/100 - Loss: 0.883\n",
      "Iter 48/100 - Loss: 0.845\n",
      "Iter 49/100 - Loss: 0.969\n",
      "Iter 50/100 - Loss: 0.775\n",
      "Iter 51/100 - Loss: 0.890\n",
      "Iter 52/100 - Loss: 0.863\n",
      "Iter 53/100 - Loss: 0.861\n",
      "Iter 54/100 - Loss: 0.858\n",
      "Iter 55/100 - Loss: 0.891\n",
      "Iter 56/100 - Loss: 0.907\n",
      "Iter 57/100 - Loss: 0.836\n",
      "Iter 58/100 - Loss: 0.872\n",
      "Iter 59/100 - Loss: 0.866\n",
      "Iter 60/100 - Loss: 0.757\n",
      "Iter 61/100 - Loss: 0.785\n",
      "Iter 62/100 - Loss: 0.822\n",
      "Iter 63/100 - Loss: 0.828\n",
      "Iter 64/100 - Loss: 0.826\n",
      "Iter 65/100 - Loss: 0.786\n",
      "Iter 66/100 - Loss: 0.897\n",
      "Iter 67/100 - Loss: 0.801\n",
      "Iter 68/100 - Loss: 0.859\n",
      "Iter 69/100 - Loss: 0.825\n",
      "Iter 70/100 - Loss: 0.861\n",
      "Iter 71/100 - Loss: 0.829\n",
      "Iter 72/100 - Loss: 0.874\n",
      "Iter 73/100 - Loss: 0.760\n",
      "Iter 74/100 - Loss: 0.797\n",
      "Iter 75/100 - Loss: 0.809\n",
      "Iter 76/100 - Loss: 0.818\n",
      "Iter 77/100 - Loss: 0.860\n",
      "Iter 78/100 - Loss: 0.875\n",
      "Iter 79/100 - Loss: 0.808\n",
      "Iter 80/100 - Loss: 0.839\n",
      "Iter 81/100 - Loss: 0.913\n",
      "Iter 82/100 - Loss: 0.820\n",
      "Iter 83/100 - Loss: 0.797\n",
      "Iter 84/100 - Loss: 0.832\n",
      "Iter 85/100 - Loss: 0.802\n",
      "Iter 86/100 - Loss: 0.736\n",
      "Iter 87/100 - Loss: 0.754\n",
      "Iter 88/100 - Loss: 0.786\n",
      "Iter 89/100 - Loss: 0.883\n",
      "Iter 90/100 - Loss: 0.773\n",
      "Iter 91/100 - Loss: 0.806\n",
      "Iter 92/100 - Loss: 0.778\n",
      "Iter 93/100 - Loss: 0.839\n",
      "Iter 94/100 - Loss: 0.742\n",
      "Iter 95/100 - Loss: 0.885\n",
      "Iter 96/100 - Loss: 0.776\n",
      "Iter 97/100 - Loss: 0.766\n",
      "Iter 98/100 - Loss: 0.765\n",
      "Iter 99/100 - Loss: 0.804\n",
      "Iter 100/100 - Loss: 0.870\n"
     ]
    }
   ],
   "source": [
    "from gpytorch.mlls.variational_elbo import VariationalELBO\n",
    "\n",
    "# Find optimal model hyperparameters\n",
    "model.train()\n",
    "likelihood.train()\n",
    "\n",
    "# \"Loss\" for GPs - the marginal log likelihood\n",
    "# num_data refers to the amount of training data\n",
    "mll = VariationalELBO(likelihood, model, train_y.numel())\n",
    "\n",
    "training_iter = 100\n",
    "for i in range(training_iter):\n",
    "    # Zero backpropped gradients from previous iteration\n",
    "    optimizer.zero_grad()\n",
    "    # Get predictive output\n",
    "    output = model(train_x)\n",
    "    # Calc loss and backprop gradients\n",
    "    loss = -mll(output, train_y)\n",
    "    optimizer.step(loss)\n",
    "    print('Iter %d/%d - Loss: %.3f' % (i + 1, training_iter, loss.item()))"
   ]
  },
  {
   "cell_type": "markdown",
   "metadata": {},
   "source": [
    "## Make predictions with the model\n",
    "\n",
    "In the next cell, we make predictions with the model. To do this, we simply put the model and likelihood in eval mode, and call both modules on the test data.\n",
    "\n",
    "In `.eval()` mode, when we call `model()` - we get GP's latent posterior predictions. These will be MultivariateNormal distributions. But since we are performing binary classification, we want to transform these outputs to classification probabilities using our likelihood.\n",
    "\n",
    "When we call `likelihood(model())`, we get a `torch.distributions.Bernoulli` distribution, which represents our posterior probability that the data points belong to the positive class.\n",
    "\n",
    "```python\n",
    "f_preds = model(test_x)\n",
    "y_preds = likelihood(model(test_x))\n",
    "\n",
    "f_mean = f_preds.mean\n",
    "f_samples = f_preds.sample(sample_shape=torch.Size((1000,))\n",
    "```"
   ]
  },
  {
   "cell_type": "code",
   "execution_count": 6,
   "metadata": {},
   "outputs": [
    {
     "data": {
      "image/png": "[encoded data removed]",
      "text/plain": [
       "<Figure size 288x216 with 1 Axes>"
      ]
     },
     "metadata": {
      "needs_background": "light"
     },
     "output_type": "display_data"
    }
   ],
   "source": [
    "# Go into eval mode\n",
    "model.eval()\n",
    "likelihood.eval()\n",
    "\n",
    "with torch.no_grad():\n",
    "    # Test x are regularly spaced by 0.01 0,1 inclusive\n",
    "    test_x = torch.linspace(0, 1, 101)\n",
    "    # Get classification predictions\n",
    "    observed_pred = likelihood(model(test_x))\n",
    "\n",
    "    # Initialize fig and axes for plot\n",
    "    f, ax = plt.subplots(1, 1, figsize=(4, 3))\n",
    "    ax.plot(train_x.numpy(), train_y.numpy(), 'k*')\n",
    "    # Get the predicted labels (probabilites of belonging to the positive class)\n",
    "    # Transform these probabilities to be 0/1 labels\n",
    "    pred_labels = observed_pred.mean.ge(0.5).float().mul(2).sub(1)\n",
    "    ax.plot(test_x.numpy(), pred_labels.numpy(), 'b')\n",
    "    ax.set_ylim([-3, 3])\n",
    "    ax.legend(['Observed Data', 'Mean', 'Confidence'])"
   ]
  },
  {
   "cell_type": "code",
   "execution_count": null,
   "metadata": {},
   "outputs": [],
   "source": []
  }
 ],
 "metadata": {
  "anaconda-cloud": {},
  "kernelspec": {
   "display_name": "Python 3",
   "language": "python",
   "name": "python3"
  },
  "language_info": {
   "codemirror_mode": {
    "name": "ipython",
    "version": 3
   },
   "file_extension": ".py",
   "mimetype": "text/x-python",
   "name": "python",
   "nbconvert_exporter": "python",
   "pygments_lexer": "ipython3",
   "version": "3.7.0"
  }
 },
 "nbformat": 4,
 "nbformat_minor": 1
}
